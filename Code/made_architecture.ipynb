{
 "cells": [
  {
   "cell_type": "markdown",
   "metadata": {},
   "source": [
    "Code for the analysis of the MADE architecture"
   ]
  },
  {
   "cell_type": "code",
   "execution_count": 1,
   "metadata": {},
   "outputs": [],
   "source": [
    "import numpy as np\n",
    "import matplotlib.pyplot as plt\n",
    "import pandas as pd\n",
    "import matplotlib.gridspec as gridspec\n",
    "import torch\n",
    "import torch.nn as nn\n",
    "import torch.optim as optim"
   ]
  },
  {
   "cell_type": "code",
   "execution_count": 2,
   "metadata": {},
   "outputs": [],
   "source": [
    "device = torch.device(\"cuda\" if torch.cuda.is_available() else \"cpu\")"
   ]
  },
  {
   "cell_type": "code",
   "execution_count": 3,
   "metadata": {},
   "outputs": [],
   "source": [
    "#Custom colormaps\n",
    "sunset = [\n",
    "    \"#a50026\", \"#d73027\", \"#f46d43\", \"#fdae61\", \"#fee090\", \"#e0f3f8\", \"#abd9e9\", \"#74add1\", \"#4575b4\", \"#313695\"\n",
    "]\n",
    "\n",
    "ptog = [\n",
    "    \"#40004b\", \"#762a83\", \"#9970ab\", \"#c2a5cf\", \"#e7d4e8\",\n",
    "    \"#d9f0d3\", \"#a6dba0\", \"#5aae61\", \"#1b7837\", \"#00441b\"\n",
    "]"
   ]
  },
  {
   "cell_type": "markdown",
   "metadata": {},
   "source": [
    "# Definitions of general functions"
   ]
  },
  {
   "cell_type": "markdown",
   "metadata": {},
   "source": [
    "Definition of the standard Metropolis Monte Carlo"
   ]
  },
  {
   "cell_type": "code",
   "execution_count": 4,
   "metadata": {},
   "outputs": [],
   "source": [
    "def monte_carlo_update_CW(pop, N, beta):\n",
    "    \"\"\"Monte Carlo update model using a checkerboard pattern.\"\"\"\n",
    "    population = pop.clone()\n",
    "    pop_size, N = population.shape\n",
    "    # Define \"even\" and \"odd\" indices for a checkerboard update\n",
    "\n",
    "    # Update spins in two passes (checkerboard pattern)\n",
    "    random_indices = torch.randint(0, N, (pop_size,))\n",
    "    magnetizations = population.mean(1)\n",
    "    sigmas = population[torch.arange(pop_size), random_indices]\n",
    "    \n",
    "    # Compute energy difference for each single-spin flip\n",
    "    delta_E = -2*(1/N - sigmas*magnetizations)\n",
    "    # Metropolis acceptance criterion for each spin\n",
    "    acceptance_prob = torch.exp(-beta * delta_E)\n",
    "    random_vals = torch.rand(pop_size, device=population.device)\n",
    "    accept = (delta_E < 0) | (random_vals < acceptance_prob)\n",
    "    \n",
    "    # Apply accepted flips only for accepted positions\n",
    "    population[torch.arange(pop_size), random_indices] = torch.where(accept, -sigmas, sigmas)\n",
    "    return population\n",
    "\n",
    "def montecarlo_CW(N, beta, pop_size, num_sweeps):\n",
    "    # Population of spins, randomly initialized to -1 or 1\n",
    "    pop = 2.*torch.randint(0, 2, (pop_size, N), device=\"cuda\") - 1.\n",
    "\n",
    "    \n",
    "    # Loop to update the population using the Monte Carlo method\n",
    "    for i in range(0, num_sweeps):  # Maximum number of iterations\n",
    "        for n in range(N):\n",
    "            # Perform a Monte Carlo update for the entire population\n",
    "            pop = monte_carlo_update_CW(pop, N, beta)\n",
    "        # Perform a Monte Carlo update for the entire population\n",
    "        pop = monte_carlo_update_CW(pop, N, beta)  \n",
    "\n",
    "    # Print or save the times to target\n",
    "    #print(\"Time to target for each population member:\", time_to_target)\n",
    "    return pop"
   ]
  },
  {
   "cell_type": "markdown",
   "metadata": {},
   "source": [
    "Definition of the MADE"
   ]
  },
  {
   "cell_type": "code",
   "execution_count": 5,
   "metadata": {},
   "outputs": [],
   "source": [
    "class AutoregressiveMasking(object):\n",
    "    \"\"\"Autoregressive constraint for weight matrices.\"\"\"\n",
    "    def __init__(self, frequency=1):\n",
    "        \"\"\"\n",
    "        Constructor for AutoregressiveMasking.\n",
    "\n",
    "        Parameters:\n",
    "        - frequency (int): Controls how often the autoregressive constraint is applied.\n",
    "        \"\"\"\n",
    "        self.frequency = frequency\n",
    "\n",
    "    def __call__(self, module):\n",
    "        \"\"\"\n",
    "        Applies the autoregressive constraint to the weight matrices of a module.\n",
    "\n",
    "        Parameters:\n",
    "        - module: PyTorch module to which the constraint is applied.\n",
    "        \"\"\"\n",
    "        # Apply autoregressive constraint to weight matrices\n",
    "        if hasattr(module, 'weight'):\n",
    "            w = module.weight.data\n",
    "            w = torch.tril(w, -1)  # Apply lower triangular masking\n",
    "            module.weight.data = w\n",
    "\n",
    "# Build the autoregressive model\n",
    "class made(nn.Module):\n",
    "    \"\"\"Autoregressive MADE (Masked Autoencoder for Distribution Estimation).\"\"\"\n",
    "    def __init__(self, input_size):\n",
    "        \"\"\"\n",
    "        Constructor for the MADE model.\n",
    "\n",
    "        Parameters:\n",
    "        - input_size (int): Size of the input features.\n",
    "        \"\"\"\n",
    "        super(made, self).__init__()\n",
    "        self.layer = nn.Linear(input_size, input_size, bias=False)\n",
    "        # self.constraint = AutoregressiveConstraint()  # Commented out, not used in forward pass\n",
    "        self.activation = nn.Sigmoid()\n",
    "\n",
    "    def forward(self, x):\n",
    "        \"\"\"\n",
    "        Forward pass of the MADE model.\n",
    "\n",
    "        Parameters:\n",
    "        - x: Input tensor to the model.\n",
    "\n",
    "        Returns:\n",
    "        - x: Output tensor after the forward pass.\n",
    "        \"\"\"\n",
    "        x = self.layer(x)\n",
    "        # x = self.constraint(x)  # Commented out, not used in the forward pass\n",
    "        x = self.activation(2 * x)  # Apply activation function\n",
    "        if device == \"cuda\":\n",
    "            torch.cuda.empty_cache()  # Clear GPU cache\n",
    "        return x\n",
    "    \n",
    "    def forward_n(self, input, n):\n",
    "        # Get the n-th row of the weight matrix of the linear layer\n",
    "        nth_row = self.layer.weight[n]\n",
    "        x = torch.einsum(\"ij, j->i\", input[:, :n], nth_row[:n])\n",
    "        x = self.activation(2 * x)\n",
    "        return x"
   ]
  },
  {
   "cell_type": "markdown",
   "metadata": {},
   "source": [
    "# Plots of the weights"
   ]
  },
  {
   "cell_type": "code",
   "execution_count": 6,
   "metadata": {},
   "outputs": [],
   "source": [
    "import matplotlib.cm as cm\n",
    "import matplotlib.colors as mcolors"
   ]
  },
  {
   "cell_type": "code",
   "execution_count": 16,
   "metadata": {},
   "outputs": [
    {
     "data": {
      "image/png": "[encoded data removed]",
      "text/plain": [
       "<Figure size 648x216 with 4 Axes>"
      ]
     },
     "metadata": {
      "needs_background": "light"
     },
     "output_type": "display_data"
    }
   ],
   "source": [
    "custom_cmap = mcolors.LinearSegmentedColormap.from_list(\"custom\", sunset)\n",
    "\n",
    "N = 20 #Size of the system\n",
    "\n",
    "# Load data\n",
    "df_finite = pd.read_csv(f\"../Data/Jl_N{N}_diffbeta.txt\", delim_whitespace=True)\n",
    "df_infinite = pd.read_csv(\"../Data/Jl_Ninf_diffbeta.txt\", delim_whitespace=True)\n",
    "\n",
    "# ℓ values\n",
    "unique_ells = sorted(df_finite[\"ℓ\"].unique())\n",
    "norm = mcolors.Normalize(vmin=min(unique_ells), vmax=max(unique_ells))\n",
    "sm = cm.ScalarMappable(cmap=custom_cmap, norm=norm)\n",
    "\n",
    "# Create figure with GridSpec and constrained layout\n",
    "fig = plt.figure(figsize=(9, 3), constrained_layout=True)\n",
    "gs = fig.add_gridspec(1, 4, width_ratios=[1, 0.000001, 1, 0.05])\n",
    "\n",
    "ax1 = fig.add_subplot(gs[0])\n",
    "ax2 = fig.add_subplot(gs[2])\n",
    "cax = fig.add_subplot(gs[3])  # Colorbar axis\n",
    "\n",
    "# Plot for finite N\n",
    "for ell in unique_ells:\n",
    "    group = df_finite[df_finite[\"ℓ\"] == ell]\n",
    "    color = custom_cmap(norm(ell))\n",
    "    ax1.plot(group[\"β\"], group[\"J_ℓ/β\"], color=color, lw=2)\n",
    "\n",
    "ax1.set_title(\"Finite, $N=20$\", fontsize = 14)\n",
    "ax1.set_xlabel(r\"$\\beta$\", fontsize = 14)\n",
    "ax1.set_ylabel(r\"$J^*_\\ell / \\beta$\", fontsize = 14)\n",
    "ax1.axvline(x=1, color='black', linestyle='--', lw=2)\n",
    "ax1.text(1.05, 0.65, r'$\\beta = \\beta_c$', fontsize=14)\n",
    "ax1.text(0.55, 0.70, r'(a)', fontsize=14)\n",
    "ax1.grid(True)\n",
    "ax1.tick_params(axis='both', which='major', labelsize=14)\n",
    "ax1.set_xlim(0.5, 2)\n",
    "ax1.set_ylim(0, 0.8)\n",
    "\n",
    "# Plot for N → ∞\n",
    "for ell in unique_ells:\n",
    "    group = df_infinite[df_infinite[\"ℓ\"] == ell]\n",
    "    if not group.empty:\n",
    "        color = custom_cmap(norm(ell))\n",
    "        ax2.plot(group[\"β\"], group[\"J_ℓ/β\"], color=color, lw=2)\n",
    "\n",
    "ax2.set_title(r\"$N \\rightarrow \\infty$\", fontsize = 14)\n",
    "ax2.set_xlabel(r\"$\\beta$\", fontsize = 14)\n",
    "ax2.axvline(x=1, color='black', linestyle='--', lw=2)\n",
    "ax2.text(0.55, 0.70, r'(b)', fontsize=14)\n",
    "ax2.text(1.05, 0.65, r'$\\beta = \\beta_c$', fontsize=14)\n",
    "ax2.grid(True)\n",
    "ax2.tick_params(axis='both', which='major', labelsize=14)\n",
    "ax2.set_xlim(0.5, 2)\n",
    "ax2.set_ylim(0, 0.8)\n",
    "\n",
    "# Colorbar\n",
    "cbar = fig.colorbar(sm, cax=cax, ticks=unique_ells)\n",
    "cbar.set_label(r\"$\\ell$\", fontsize = 14)\n",
    "\n",
    "plt.savefig(\"../Plots/Jl_N20_diffbeta.pdf\")\n",
    "\n",
    "plt.show()\n"
   ]
  },
  {
   "cell_type": "markdown",
   "metadata": {},
   "source": [
    "# Plot of the gradient"
   ]
  },
  {
   "cell_type": "code",
   "execution_count": 45,
   "metadata": {},
   "outputs": [],
   "source": [
    "def gradients_computer(N, dataset, optimal, epsilon=0.1, num_points=20):\n",
    "    \"\"\"\n",
    "    Computes gradients of the loss with respect to structured weight perturbations\n",
    "    in a lower-triangular matrix model. For each row i, it perturbs the shared value\n",
    "    used in the allowed (i.e., j <= i) positions, computes the model's loss gradient\n",
    "    with respect to that value, and returns a dictionary of (offset, gradient) pairs.\n",
    "\n",
    "    Args:\n",
    "        dataset (torch.Tensor): Input data.\n",
    "        optimal (torch.Tensor): Optimal shared values per row in the weight matrix.\n",
    "        epsilon (float): Fractional range for candidate offsets.\n",
    "        num_points (int): Number of offset values to evaluate per row.\n",
    "\n",
    "    Returns:\n",
    "        dict: {row_index: [(offset, gradient), ...]} for each row.\n",
    "    \"\"\"\n",
    "\n",
    "    device = torch.device(\"cuda\" if torch.cuda.is_available() else \"cpu\")\n",
    "\n",
    "    model = made(N)  # assume your MADE model definition is available\n",
    "    model = model.to(device)\n",
    "    optimizer = optim.SGD(model.parameters(), lr=0)  # dummy optimizer\n",
    "    criterion = nn.BCELoss(reduction=\"sum\")\n",
    "\n",
    "    gradients = {}\n",
    "    num_rows, num_cols = N, N  # assumes square weight matrix\n",
    "\n",
    "    for i in range(num_rows):\n",
    "        gradients[i] = []\n",
    "        allowed_mask = torch.arange(num_cols, device=device) < i\n",
    "        optimal_J_i = optimal[i]\n",
    "\n",
    "        offsets = torch.linspace(-epsilon +0* optimal_J_i, epsilon +0* optimal_J_i, steps=num_points, device=device)\n",
    "\n",
    "        for offset in offsets:\n",
    "            candidate_value = optimal_J_i + offset\n",
    "\n",
    "            # Create new weight matrix and set tied values\n",
    "            new_weight = torch.zeros_like(model.layer.weight)\n",
    "            new_weight[i, allowed_mask] = candidate_value\n",
    "            new_weight = new_weight.clone().detach().requires_grad_(True)\n",
    "\n",
    "            # Override model weights\n",
    "            model.layer.weight = nn.Parameter(new_weight)\n",
    "\n",
    "            # Compute gradient of loss\n",
    "            optimizer.zero_grad()\n",
    "            output = model(dataset)\n",
    "            loss = criterion(output, (dataset + 1) / 2) / len(dataset)\n",
    "            loss.backward()\n",
    "\n",
    "            # Accumulate gradient from tied entries\n",
    "            grad_i = model.layer.weight.grad[i, allowed_mask].sum().item() if i != 0 else 0\n",
    "            gradients[i].append((offset.item(), grad_i))\n",
    "\n",
    "    return gradients"
   ]
  },
  {
   "cell_type": "markdown",
   "metadata": {},
   "source": [
    "We simulate a population of configurations to compute the averages"
   ]
  },
  {
   "cell_type": "code",
   "execution_count": 35,
   "metadata": {},
   "outputs": [],
   "source": [
    "#parameters of the simulation\n",
    "N = 20\n",
    "beta = 1\n",
    "pop_size = 5000000\n",
    "num_sweeps = 30\n",
    "\n",
    "#load the exact couplings\n",
    "W = np.concatenate([np.array([0]),np.loadtxt(f\"../Data/couplings_exact/couplings_N{N}_beta{beta}.txt\")]) #Need to add the starting 0\n",
    "W *= beta\n",
    "\n",
    "pop = montecarlo_CW(N, beta, pop_size, num_sweeps)"
   ]
  },
  {
   "cell_type": "markdown",
   "metadata": {},
   "source": [
    "Then, we compute the gradients and compare the ones obtained from data with the ones found by linearizing"
   ]
  },
  {
   "cell_type": "code",
   "execution_count": 48,
   "metadata": {},
   "outputs": [],
   "source": [
    "gradients = gradients_computer(N, pop, W, epsilon = 0.04, num_points=40)"
   ]
  },
  {
   "cell_type": "code",
   "execution_count": null,
   "metadata": {},
   "outputs": [
    {
     "name": "stdout",
     "output_type": "stream",
     "text": [
      "Angular coefficient for key 1: 0.9555778184428751\n",
      "Angular coefficient for key 7: 11.692630529304902\n",
      "Angular coefficient for key 11: 24.08169056485672\n",
      "Angular coefficient for key 14: 36.192174797914504\n",
      "Angular coefficient for key 19: 61.80100848839608\n"
     ]
    },
    {
     "data": {
      "image/png": "[encoded data removed]",
      "text/plain": [
       "<Figure size 288x216 with 1 Axes>"
      ]
     },
     "metadata": {
      "needs_background": "light"
     },
     "output_type": "display_data"
    }
   ],
   "source": [
    "import matplotlib.pyplot as plt\n",
    "import numpy as np\n",
    "\n",
    "fontsize = 14\n",
    "\n",
    "plt.figure(figsize=(4, 3))\n",
    "\n",
    "# Set colormap to 'suset' and normalization range\n",
    "cmap = mcolors.LinearSegmentedColormap.from_list(\"custom\", sunset)\n",
    "norm = plt.Normalize(vmin=1, vmax=19)\n",
    "\n",
    "# Load Hessian data\n",
    "hessian = np.loadtxt(f\"../Data/hessian_N{N}_beta{beta}.txt\")\n",
    "\n",
    "# Plot for selected keys\n",
    "for key in [1, 7, 11,14, 19]:\n",
    "    gradient_values = gradients[key]\n",
    "    candidate_values = np.array([item[0] for item in gradient_values])\n",
    "    gradient_magnitudes = np.array([item[1] for item in gradient_values])\n",
    "    \n",
    "    # Compute and display the angular coefficient via linear fit\n",
    "    coeffs = np.polyfit(candidate_values, gradient_magnitudes, 1)\n",
    "    print(f'Angular coefficient for key {key}: {coeffs[0]}')\n",
    "    \n",
    "    # Pre-calculate x-values for the line\n",
    "    x_vals = np.linspace(-0.04, 0.04, 10)\n",
    "    plt.plot(x_vals, x_vals * hessian[key-1, 1] ,\n",
    "             color=cmap(norm(key)), lw = 2)\n",
    "    plt.scatter(candidate_values, gradient_magnitudes,\n",
    "                color=cmap(norm(key)), edgecolor='black', linewidth=0.1, label=rf\"$\\ell = {key+1}$\", zorder = 3)\n",
    "\n",
    "plt.xlabel(r'$\\Delta \\; J$', fontsize=fontsize)\n",
    "plt.ylabel(r'$\\nabla_\\ell \\; J$', fontsize=fontsize)\n",
    "plt.xlim(-0.04, 0.04)\n",
    "plt.ylim(-1.2, 1.2)\n",
    "plt.xticks(fontsize=fontsize)\n",
    "plt.yticks(fontsize=fontsize)\n",
    "plt.legend(fontsize=fontsize, bbox_to_anchor=(1.05, 0.5), loc='center left')\n",
    "plt.grid(True)\n",
    "plt.savefig(\"../Plots/gradients_N20.pdf\")\n",
    "plt.show()\n"
   ]
  },
  {
   "cell_type": "code",
   "execution_count": null,
   "metadata": {},
   "outputs": [],
   "source": []
  },
  {
   "cell_type": "code",
   "execution_count": null,
   "metadata": {},
   "outputs": [],
   "source": []
  }
 ],
 "metadata": {
  "kernelspec": {
   "display_name": "old",
   "language": "python",
   "name": "python3"
  },
  "language_info": {
   "codemirror_mode": {
    "name": "ipython",
    "version": 3
   },
   "file_extension": ".py",
   "mimetype": "text/x-python",
   "name": "python",
   "nbconvert_exporter": "python",
   "pygments_lexer": "ipython3",
   "version": "3.6.9"
  }
 },
 "nbformat": 4,
 "nbformat_minor": 2
}
