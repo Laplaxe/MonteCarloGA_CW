{
 "cells": [
  {
   "cell_type": "markdown",
   "metadata": {},
   "source": [
    "Code for the analysis of the MADE architecture"
   ]
  },
  {
   "cell_type": "code",
   "execution_count": 16,
   "metadata": {},
   "outputs": [],
   "source": [
    "#imports\n",
    "\n",
    "import numpy as np\n",
    "import matplotlib as mpl\n",
    "import matplotlib.pyplot as plt\n",
    "import pandas as pd\n",
    "import matplotlib.gridspec as gridspec\n",
    "import torch\n",
    "import torch.nn as nn\n",
    "import torch.optim as optim\n",
    "from tqdm import tqdm\n",
    "import random"
   ]
  },
  {
   "cell_type": "code",
   "execution_count": 2,
   "metadata": {},
   "outputs": [],
   "source": [
    "device = torch.device(\"cuda\" if torch.cuda.is_available() else \"cpu\")"
   ]
  },
  {
   "cell_type": "code",
   "execution_count": 3,
   "metadata": {},
   "outputs": [],
   "source": [
    "#Custom colormaps\n",
    "sunset = [\n",
    "    \"#a50026\", \"#d73027\", \"#f46d43\", \"#fdae61\", \"#fee090\", \"#e0f3f8\", \"#abd9e9\", \"#74add1\", \"#4575b4\", \"#313695\"\n",
    "]\n",
    "\n",
    "ptog = [\n",
    "    \"#40004b\", \"#762a83\", \"#9970ab\", \"#c2a5cf\", \"#e7d4e8\",\n",
    "    \"#d9f0d3\", \"#a6dba0\", \"#5aae61\", \"#1b7837\", \"#00441b\"\n",
    "]"
   ]
  },
  {
   "cell_type": "markdown",
   "metadata": {},
   "source": [
    "# Definitions of general functions"
   ]
  },
  {
   "cell_type": "markdown",
   "metadata": {},
   "source": [
    "Definition of the standard Metropolis Monte Carlo"
   ]
  },
  {
   "cell_type": "code",
   "execution_count": 4,
   "metadata": {},
   "outputs": [],
   "source": [
    "def monte_carlo_update_CW(pop, N, beta):\n",
    "    \"\"\"Monte Carlo update model using a checkerboard pattern.\"\"\"\n",
    "    population = pop.clone()\n",
    "    pop_size, N = population.shape\n",
    "    # Define \"even\" and \"odd\" indices for a checkerboard update\n",
    "\n",
    "    # Update spins in two passes (checkerboard pattern)\n",
    "    random_indices = torch.randint(0, N, (pop_size,))\n",
    "    magnetizations = population.mean(1)\n",
    "    sigmas = population[torch.arange(pop_size), random_indices]\n",
    "    \n",
    "    # Compute energy difference for each single-spin flip\n",
    "    delta_E = -2*(1/N - sigmas*magnetizations)\n",
    "    # Metropolis acceptance criterion for each spin\n",
    "    acceptance_prob = torch.exp(-beta * delta_E)\n",
    "    random_vals = torch.rand(pop_size, device=population.device)\n",
    "    accept = (delta_E < 0) | (random_vals < acceptance_prob)\n",
    "    \n",
    "    # Apply accepted flips only for accepted positions\n",
    "    population[torch.arange(pop_size), random_indices] = torch.where(accept, -sigmas, sigmas)\n",
    "    return population\n",
    "\n",
    "def montecarlo_CW(N, beta, pop_size, num_sweeps):\n",
    "    # Population of spins, randomly initialized to -1 or 1\n",
    "    pop = 2.*torch.randint(0, 2, (pop_size, N), device=\"cuda\") - 1.\n",
    "\n",
    "    \n",
    "    # Loop to update the population using the Monte Carlo method\n",
    "    for i in range(0, num_sweeps):  # Maximum number of iterations\n",
    "        for n in range(N):\n",
    "            # Perform a Monte Carlo update for the entire population\n",
    "            pop = monte_carlo_update_CW(pop, N, beta)\n",
    "        # Perform a Monte Carlo update for the entire population\n",
    "        pop = monte_carlo_update_CW(pop, N, beta)  \n",
    "\n",
    "    # Print or save the times to target\n",
    "    #print(\"Time to target for each population member:\", time_to_target)\n",
    "    return pop"
   ]
  },
  {
   "cell_type": "markdown",
   "metadata": {},
   "source": [
    "Definition of the MADE"
   ]
  },
  {
   "cell_type": "code",
   "execution_count": 5,
   "metadata": {},
   "outputs": [],
   "source": [
    "class AutoregressiveMasking(object):\n",
    "    \"\"\"Autoregressive constraint for weight matrices.\"\"\"\n",
    "    def __init__(self, frequency=1):\n",
    "        \"\"\"\n",
    "        Constructor for AutoregressiveMasking.\n",
    "\n",
    "        Parameters:\n",
    "        - frequency (int): Controls how often the autoregressive constraint is applied.\n",
    "        \"\"\"\n",
    "        self.frequency = frequency\n",
    "\n",
    "    def __call__(self, module):\n",
    "        \"\"\"\n",
    "        Applies the autoregressive constraint to the weight matrices of a module.\n",
    "\n",
    "        Parameters:\n",
    "        - module: PyTorch module to which the constraint is applied.\n",
    "        \"\"\"\n",
    "        # Apply autoregressive constraint to weight matrices\n",
    "        if hasattr(module, 'weight'):\n",
    "            w = module.weight.data\n",
    "            w = torch.tril(w, -1)  # Apply lower triangular masking\n",
    "            module.weight.data = w\n",
    "\n",
    "# Build the autoregressive model\n",
    "class made(nn.Module):\n",
    "    \"\"\"Autoregressive MADE (Masked Autoencoder for Distribution Estimation).\"\"\"\n",
    "    def __init__(self, input_size):\n",
    "        \"\"\"\n",
    "        Constructor for the MADE model.\n",
    "\n",
    "        Parameters:\n",
    "        - input_size (int): Size of the input features.\n",
    "        \"\"\"\n",
    "        super(made, self).__init__()\n",
    "        self.layer = nn.Linear(input_size, input_size, bias=False)\n",
    "        # self.constraint = AutoregressiveConstraint()  # Commented out, not used in forward pass\n",
    "        self.activation = nn.Sigmoid()\n",
    "\n",
    "    def forward(self, x):\n",
    "        \"\"\"\n",
    "        Forward pass of the MADE model.\n",
    "\n",
    "        Parameters:\n",
    "        - x: Input tensor to the model.\n",
    "\n",
    "        Returns:\n",
    "        - x: Output tensor after the forward pass.\n",
    "        \"\"\"\n",
    "        x = self.layer(x)\n",
    "        # x = self.constraint(x)  # Commented out, not used in the forward pass\n",
    "        x = self.activation(2 * x)  # Apply activation function\n",
    "        if device == \"cuda\":\n",
    "            torch.cuda.empty_cache()  # Clear GPU cache\n",
    "        return x\n",
    "    \n",
    "    def forward_n(self, input, n):\n",
    "        # Get the n-th row of the weight matrix of the linear layer\n",
    "        nth_row = self.layer.weight[n]\n",
    "        x = torch.einsum(\"ij, j->i\", input[:, :n], nth_row[:n])\n",
    "        x = self.activation(2 * x)\n",
    "        return x"
   ]
  },
  {
   "cell_type": "markdown",
   "metadata": {},
   "source": [
    "# Plots of the weights"
   ]
  },
  {
   "cell_type": "code",
   "execution_count": 6,
   "metadata": {},
   "outputs": [],
   "source": [
    "import matplotlib.cm as cm\n",
    "import matplotlib.colors as mcolors"
   ]
  },
  {
   "cell_type": "code",
   "execution_count": 16,
   "metadata": {},
   "outputs": [
    {
     "data": {
      "image/png": "[encoded data removed]",
      "text/plain": [
       "<Figure size 648x216 with 4 Axes>"
      ]
     },
     "metadata": {
      "needs_background": "light"
     },
     "output_type": "display_data"
    }
   ],
   "source": [
    "custom_cmap = mcolors.LinearSegmentedColormap.from_list(\"custom\", sunset)\n",
    "\n",
    "N = 20 #Size of the system\n",
    "\n",
    "# Load data\n",
    "df_finite = pd.read_csv(f\"../Data/Jl_N{N}_diffbeta.txt\", delim_whitespace=True)\n",
    "df_infinite = pd.read_csv(\"../Data/Jl_Ninf_diffbeta.txt\", delim_whitespace=True)\n",
    "\n",
    "# ℓ values\n",
    "unique_ells = sorted(df_finite[\"ℓ\"].unique())\n",
    "norm = mcolors.Normalize(vmin=min(unique_ells), vmax=max(unique_ells))\n",
    "sm = cm.ScalarMappable(cmap=custom_cmap, norm=norm)\n",
    "\n",
    "# Create figure with GridSpec and constrained layout\n",
    "fig = plt.figure(figsize=(9, 3), constrained_layout=True)\n",
    "gs = fig.add_gridspec(1, 4, width_ratios=[1, 0.000001, 1, 0.05])\n",
    "\n",
    "ax1 = fig.add_subplot(gs[0])\n",
    "ax2 = fig.add_subplot(gs[2])\n",
    "cax = fig.add_subplot(gs[3])  # Colorbar axis\n",
    "\n",
    "# Plot for finite N\n",
    "for ell in unique_ells:\n",
    "    group = df_finite[df_finite[\"ℓ\"] == ell]\n",
    "    color = custom_cmap(norm(ell))\n",
    "    ax1.plot(group[\"β\"], group[\"J_ℓ/β\"], color=color, lw=2)\n",
    "\n",
    "ax1.set_title(\"Finite, $N=20$\", fontsize = 14)\n",
    "ax1.set_xlabel(r\"$\\beta$\", fontsize = 14)\n",
    "ax1.set_ylabel(r\"$J^*_\\ell / \\beta$\", fontsize = 14)\n",
    "ax1.axvline(x=1, color='black', linestyle='--', lw=2)\n",
    "ax1.text(1.05, 0.65, r'$\\beta = \\beta_c$', fontsize=14)\n",
    "ax1.text(0.55, 0.70, r'(a)', fontsize=14)\n",
    "ax1.grid(True)\n",
    "ax1.tick_params(axis='both', which='major', labelsize=14)\n",
    "ax1.set_xlim(0.5, 2)\n",
    "ax1.set_ylim(0, 0.8)\n",
    "\n",
    "# Plot for N → ∞\n",
    "for ell in unique_ells:\n",
    "    group = df_infinite[df_infinite[\"ℓ\"] == ell]\n",
    "    if not group.empty:\n",
    "        color = custom_cmap(norm(ell))\n",
    "        ax2.plot(group[\"β\"], group[\"J_ℓ/β\"], color=color, lw=2)\n",
    "\n",
    "ax2.set_title(r\"$N \\rightarrow \\infty$\", fontsize = 14)\n",
    "ax2.set_xlabel(r\"$\\beta$\", fontsize = 14)\n",
    "ax2.axvline(x=1, color='black', linestyle='--', lw=2)\n",
    "ax2.text(0.55, 0.70, r'(b)', fontsize=14)\n",
    "ax2.text(1.05, 0.65, r'$\\beta = \\beta_c$', fontsize=14)\n",
    "ax2.grid(True)\n",
    "ax2.tick_params(axis='both', which='major', labelsize=14)\n",
    "ax2.set_xlim(0.5, 2)\n",
    "ax2.set_ylim(0, 0.8)\n",
    "\n",
    "# Colorbar\n",
    "cbar = fig.colorbar(sm, cax=cax, ticks=unique_ells)\n",
    "cbar.set_label(r\"$\\ell$\", fontsize = 14)\n",
    "\n",
    "plt.savefig(\"../Plots/Jl_N20_diffbeta.pdf\")\n",
    "\n",
    "plt.show()\n"
   ]
  },
  {
   "cell_type": "markdown",
   "metadata": {},
   "source": [
    "# Comparison Exact-Small $J_\\ell$"
   ]
  },
  {
   "cell_type": "code",
   "execution_count": null,
   "metadata": {},
   "outputs": [],
   "source": [
    "Nvalues = np.array([100, 500])\n",
    "beta = 1\n",
    "\n",
    "Wexact = []\n",
    "Wexp = []\n",
    "\n",
    "for N in Nvalues:\n",
    "    Wexact.append(np.concatenate([np.array([0]),np.loadtxt(f\"couplings_N{N}_beta{beta}.txt\")]))\n",
    "    Wexp.append(np.concatenate([np.array([0]),np.loadtxt(f\"couplings_expansion_N{N}_beta{beta}.txt\")[:,1]]))"
   ]
  },
  {
   "cell_type": "code",
   "execution_count": null,
   "metadata": {},
   "outputs": [],
   "source": [
    "fig, axes = plt.subplots(1, 3, figsize=(15, 5))\n",
    "\n",
    "colors = [\"teal\", \"firebrick\"]\n",
    "\n",
    "# First plot: Wexact and Wexp\n",
    "for n in range(len(Nvalues)):\n",
    "    axes[0].plot(Wexact[n], label=f'Exact {Nvalues[n]}', linestyle='-', color=colors[n])\n",
    "    axes[0].plot(Wexp[n], label=f'Exp {Nvalues[n]}', linestyle='--', color=colors[n])\n",
    "\n",
    "axes[0].set_title(\"Wexact vs Wexp\")\n",
    "axes[0].set_xlabel(\"Index\")\n",
    "axes[0].set_ylabel(\"Values\")\n",
    "axes[0].legend()\n",
    "axes[0].grid(True)\n",
    "\n",
    "# Second plot: Difference (Error)\n",
    "for n in range(len(Nvalues)):\n",
    "    axes[1].plot([a - b for a, b in zip(Wexact[n], Wexp[n])], label=f'Diff {Nvalues[n]}', linestyle='-', color=colors[n])\n",
    "\n",
    "axes[1].set_title(\"Difference: Wexact - Wexp\")\n",
    "axes[1].set_xlabel(\"Index\")\n",
    "axes[1].set_ylabel(\"Error\")\n",
    "axes[1].legend()\n",
    "axes[1].grid(True)\n",
    "\n",
    "# Third plot: Relative Error\n",
    "for n in range(len(Nvalues)):\n",
    "    axes[2].plot([(a - b) / a for a, b in zip(Wexact[n], Wexp[n])], label=f'Relative {Nvalues[n]}', linestyle='-', color=colors[n])\n",
    "\n",
    "axes[2].set_title(\"Relative Error: (J_exact - J_exp) / J_exact\")\n",
    "axes[2].set_xlabel(\"Index\")\n",
    "axes[2].set_ylabel(\"Relative Error\")\n",
    "axes[2].legend()\n",
    "axes[2].grid(True)\n",
    "\n",
    "plt.tight_layout()\n",
    "plt.show()"
   ]
  },
  {
   "cell_type": "markdown",
   "metadata": {},
   "source": [
    "# Plot of the gradients"
   ]
  },
  {
   "cell_type": "code",
   "execution_count": null,
   "metadata": {},
   "outputs": [],
   "source": [
    "def gradients_computer(N, dataset, optimal, epsilon=0.1, num_points=20):\n",
    "    \"\"\"\n",
    "    Computes gradients of the loss with respect to structured weight perturbations\n",
    "    in a lower-triangular matrix model. For each row i, it perturbs the shared value\n",
    "    used in the allowed (i.e., j <= i) positions, computes the model's loss gradient\n",
    "    with respect to that value, and returns a dictionary of (offset, gradient) pairs.\n",
    "\n",
    "    Args:\n",
    "        dataset (torch.Tensor): Input data.\n",
    "        optimal (torch.Tensor): Optimal shared values per row in the weight matrix.\n",
    "        epsilon (float): Range of the offset.\n",
    "        num_points (int): Number of offset values to evaluate per row.\n",
    "\n",
    "    Returns:\n",
    "        dict: {row_index: [(offset, gradient), ...]} for each row.\n",
    "    \"\"\"\n",
    "\n",
    "    device = torch.device(\"cuda\" if torch.cuda.is_available() else \"cpu\")\n",
    "\n",
    "    model = made(N)  # assume your MADE model definition is available\n",
    "    model = model.to(device)\n",
    "    optimizer = optim.SGD(model.parameters(), lr=0)  # dummy optimizer\n",
    "    criterion = nn.BCELoss(reduction=\"sum\")\n",
    "\n",
    "    gradients = {}\n",
    "    num_rows, num_cols = N, N  # assumes square weight matrix\n",
    "\n",
    "    for i in range(num_rows):\n",
    "        gradients[i] = []\n",
    "        allowed_mask = torch.arange(num_cols, device=device) < i\n",
    "        optimal_J_i = optimal[i]\n",
    "\n",
    "        offsets = torch.linspace(-epsilon, epsilon, steps=num_points, device=device)\n",
    "\n",
    "        for offset in offsets:\n",
    "            candidate_value = optimal_J_i + offset\n",
    "\n",
    "            # Create new weight matrix and set tied values\n",
    "            new_weight = torch.zeros_like(model.layer.weight)\n",
    "            new_weight[i, allowed_mask] = candidate_value\n",
    "            new_weight = new_weight.clone().detach().requires_grad_(True)\n",
    "\n",
    "            # Override model weights\n",
    "            model.layer.weight = nn.Parameter(new_weight)\n",
    "\n",
    "            # Compute gradient of loss\n",
    "            optimizer.zero_grad()\n",
    "            output = model(dataset)\n",
    "            loss = criterion(output, (dataset + 1) / 2) / len(dataset)\n",
    "            loss.backward()\n",
    "\n",
    "            # Accumulate gradient from tied entries\n",
    "            grad_i = model.layer.weight.grad[i, allowed_mask].sum().item() if i != 0 else 0\n",
    "            gradients[i].append((offset.item(), grad_i))\n",
    "\n",
    "    return gradients"
   ]
  },
  {
   "cell_type": "markdown",
   "metadata": {},
   "source": [
    "We simulate a population of configurations to compute the averages"
   ]
  },
  {
   "cell_type": "code",
   "execution_count": 35,
   "metadata": {},
   "outputs": [],
   "source": [
    "#parameters of the simulation\n",
    "N = 20\n",
    "beta = 1\n",
    "pop_size = 5000000\n",
    "num_sweeps = 30\n",
    "\n",
    "#load the exact couplings\n",
    "W = np.concatenate([np.array([0]),np.loadtxt(f\"../Data/couplings_exact/couplings_N{N}_beta{beta}.txt\")]) #Need to add the starting 0\n",
    "W *= beta\n",
    "\n",
    "pop = montecarlo_CW(N, beta, pop_size, num_sweeps)"
   ]
  },
  {
   "cell_type": "markdown",
   "metadata": {},
   "source": [
    "Then, we compute the gradients and compare the ones obtained from data with the ones found by linearizing"
   ]
  },
  {
   "cell_type": "code",
   "execution_count": 48,
   "metadata": {},
   "outputs": [],
   "source": [
    "gradients = gradients_computer(N, pop, W, epsilon = 0.04, num_points=40)"
   ]
  },
  {
   "cell_type": "code",
   "execution_count": 75,
   "metadata": {},
   "outputs": [
    {
     "name": "stdout",
     "output_type": "stream",
     "text": [
      "Angular coefficient for key 1: 0.9555778184428751\n",
      "Angular coefficient for key 7: 11.692630529304902\n",
      "Angular coefficient for key 11: 24.08169056485672\n",
      "Angular coefficient for key 14: 36.192174797914504\n",
      "Angular coefficient for key 19: 61.80100848839608\n"
     ]
    },
    {
     "data": {
      "image/png": "[encoded data removed]",
      "text/plain": [
       "<Figure size 432x216 with 1 Axes>"
      ]
     },
     "metadata": {
      "needs_background": "light"
     },
     "output_type": "display_data"
    }
   ],
   "source": [
    "import matplotlib.pyplot as plt\n",
    "import numpy as np\n",
    "\n",
    "fontsize = 14\n",
    "\n",
    "plt.figure(figsize=(6, 3))\n",
    "\n",
    "# Set colormap to 'suset' and normalization range\n",
    "cmap = mcolors.LinearSegmentedColormap.from_list(\"custom\", sunset)\n",
    "norm = plt.Normalize(vmin=1, vmax=19)\n",
    "\n",
    "# Load Hessian data\n",
    "hessian = np.loadtxt(f\"../Data/hessian_N{N}_beta{beta}.txt\")\n",
    "\n",
    "# Plot for selected keys\n",
    "for key in [1, 7, 11,14, 19]:\n",
    "    gradient_values = gradients[key]\n",
    "    candidate_values = np.array([item[0] for item in gradient_values])\n",
    "    gradient_magnitudes = np.array([item[1] for item in gradient_values])\n",
    "    \n",
    "    # Compute and display the angular coefficient via linear fit\n",
    "    coeffs = np.polyfit(candidate_values, gradient_magnitudes, 1)\n",
    "    print(f'Angular coefficient for key {key}: {coeffs[0]}')\n",
    "    \n",
    "    # Pre-calculate x-values for the line\n",
    "    x_vals = np.linspace(-0.04, 0.04, 10)\n",
    "    plt.plot(x_vals, x_vals * hessian[key-1, 1] ,\n",
    "             color=cmap(norm(key)), lw = 2)\n",
    "    plt.scatter(candidate_values, gradient_magnitudes,\n",
    "                color=cmap(norm(key)), edgecolor='black', linewidth=0.1, label=rf\"$\\ell = {key+1}$\", zorder = 3)\n",
    "\n",
    "plt.xlabel(r'$\\Delta \\; J_\\ell$', fontsize=fontsize)\n",
    "plt.ylabel(r'$\\nabla_\\ell \\; J_\\ell$', fontsize=fontsize)\n",
    "plt.xlim(-0.04, 0.04)\n",
    "plt.ylim(-1.2, 1.2)\n",
    "plt.xticks(fontsize=fontsize)\n",
    "plt.yticks(fontsize=fontsize)\n",
    "plt.legend(fontsize=fontsize, bbox_to_anchor=(1.05, 0.5), loc='center left')\n",
    "plt.grid(True)\n",
    "plt.tight_layout()\n",
    "plt.savefig(\"../Plots/gradients_N20.pdf\")\n",
    "plt.show()\n"
   ]
  },
  {
   "cell_type": "markdown",
   "metadata": {},
   "source": [
    "# Test of the linearization"
   ]
  },
  {
   "cell_type": "code",
   "execution_count": 6,
   "metadata": {},
   "outputs": [],
   "source": [
    "# creates a MADE model starting from a given weight matrix\n",
    "\n",
    "def setup_model(W, N = 100):\n",
    "    model = made(N)\n",
    "    weights = model.layer.weight.detach()\n",
    "\n",
    "    # Update each row i of the weight matrix with W[i]\n",
    "    for i in range(weights.shape[0]):\n",
    "        weights[i, :] = W[i]\n",
    "\n",
    "    # Set the upper triangular part of the matrix to 0\n",
    "    weights = np.tril(weights, -1)  # Keep only the lower triangular part\n",
    "\n",
    "    # Set the updated weights back to the model\n",
    "    model.layer.weight.data = torch.tensor(weights)\n",
    "    model = model.cuda()\n",
    "    return model"
   ]
  },
  {
   "cell_type": "code",
   "execution_count": 7,
   "metadata": {},
   "outputs": [],
   "source": [
    "#function to perform GD and saving the weights at certain epochs\n",
    "\n",
    "def train_different_epochs(dataset, input_size, optimal, epochs_save, start = \"optimal\", pert_type = \"uniform_small\", epochs=1, optimizer = \"SGD\", batch_size=256, learning_rate = 0.001):\n",
    "    \"\"\"\n",
    "    Train the MADE architecture using data.\n",
    "\n",
    "    Parameters:\n",
    "    - data: Training data as a PyTorch tensor, aka #configurations x #spins tensor.\n",
    "    - input_size (int): Size of the input features.\n",
    "    - epochs (int): Number of training epochs.\n",
    "    - batch_size (int): Batch size for training.\n",
    "    - learning_rate (float): Learning rate for optimization.\n",
    "\n",
    "    Returns:\n",
    "    - model: Trained MADE model.\n",
    "    \"\"\"\n",
    "    data = torch.clone(dataset)\n",
    "    model = made(input_size)\n",
    "    model = model.to(device)\n",
    "    # Set model.layer.weights to optimal, then add a small Gaussian perturbation\n",
    "    with torch.no_grad():\n",
    "        if start == \"optimal\":\n",
    "            model.layer.weight = nn.Parameter(optimal.clone())\n",
    "        elif start == \"random\":\n",
    "            pass # layers are already initialized randomly \n",
    "        elif start == \"zero\":\n",
    "            model.layer.weight = nn.Parameter(torch.zeros_like(model.layer.weight))\n",
    "        else:\n",
    "            raise ValueError(f\"pert_type '{pert_type}' is not supported. Supported types are 'optimal' and 'random'\")\n",
    "        if pert_type == \"uniform_small\":\n",
    "            perturbation = 0.01\n",
    "        elif pert_type == \"uniform_large\":\n",
    "            perturbation = 0.3\n",
    "        elif pert_type == \"none\":\n",
    "            perturbation = 0\n",
    "        else:\n",
    "            raise ValueError(f\"pert_type '{pert_type}' is not supported. Supported types are 'uniform_small', 'uniform_large' and 'none'\")\n",
    "        model.layer.weight += perturbation\n",
    "    model.train()\n",
    "    clipper = AutoregressiveMasking()\n",
    "    model.apply(clipper)\n",
    "\n",
    "    weights = []\n",
    "\n",
    "    if optimizer == \"SGD\":\n",
    "        optimizer = optim.SGD(model.parameters(), lr=learning_rate)\n",
    "    elif optimizer == \"Adam\":\n",
    "        optimizer = optim.Adam(model.parameters(), lr=learning_rate)\n",
    "    else:\n",
    "        raise ValueError(f\"Optimizer '{optimizer}' is not supported. Supported optimizers are 'SGD' and 'Adam'\")\n",
    "    criterion = nn.BCELoss(reduction=\"mean\")\n",
    "    for epoch in tqdm(range(epochs)):\n",
    "        tot_loss = 0\n",
    "        count = 0\n",
    "        if epoch in epochs_save:\n",
    "            with torch.no_grad():\n",
    "                res = model.layer.weight.sum(1)\n",
    "                res[1:]/= torch.arange(1, len(res), device = \"cuda\")\n",
    "                weights.append(res.cpu().numpy())\n",
    "        for i in range(0, len(data), batch_size):\n",
    "            indices = random.sample(range(data.shape[0]), batch_size)\n",
    "            #batch_data = data[indices]\n",
    "            batch_data = data[indices].to(device)\n",
    "\n",
    "            # Forward pass\n",
    "            output = model(batch_data)\n",
    "\n",
    "            # Compute loss\n",
    "            loss = criterion(output, (batch_data + 1) / 2)\n",
    "            tot_loss += loss\n",
    "            count += 1\n",
    "\n",
    "            # Backward pass and optimization\n",
    "            optimizer.zero_grad()\n",
    "            loss.backward()\n",
    "            optimizer.step()\n",
    "            model.apply(clipper)\n",
    "    \n",
    "    return model, weights"
   ]
  },
  {
   "cell_type": "code",
   "execution_count": 59,
   "metadata": {},
   "outputs": [],
   "source": [
    "N = 200\n",
    "beta = 1\n",
    "\n",
    "#choose wheter to load the data or to perform the simulation. Warning: the simulation takes a lot of time\n",
    "LOAD_DATA = True\n",
    "\n",
    "if LOAD_DATA:\n",
    "    weights = np.loadtxt(f\"../Data/weights_N{N}_beta{beta}.txt\")\n",
    "else:\n",
    "    #parameters of the simulation\n",
    "    pop_size = 5000000\n",
    "    num_sweeps = 30\n",
    "\n",
    "    #load the exact couplings\n",
    "    W = np.concatenate([np.array([0]),np.loadtxt(f\"../Data/couplings_exact/couplings_N{N}_beta{beta}.txt\")]) #Need to add the starting 0\n",
    "    W *= beta\n",
    "    model_exact = setup_model(W, N = N)\n",
    "\n",
    "    pop = montecarlo_CW(N, beta, pop_size, num_sweeps)\n",
    "\n",
    "    num_epochs = 1501\n",
    "    lr = 1\n",
    "    save_epochs = np.arange(0, 1501, 5)\n",
    "    model, weights  = train_different_epochs(pop, N, model_exact.layer.weight, save_epochs, start = \"zero\", pert_type=\"none\", epochs = num_epochs, learning_rate=lr, batch_size=len(pop))\n",
    "    weights = np.array(weights)"
   ]
  },
  {
   "cell_type": "code",
   "execution_count": 57,
   "metadata": {},
   "outputs": [],
   "source": [
    "backup_weights = np.copy(weights)"
   ]
  },
  {
   "cell_type": "code",
   "execution_count": 58,
   "metadata": {},
   "outputs": [],
   "source": [
    "np.savetxt(f\"../Data/weights_N{N}_beta{beta}.txt\", weights)"
   ]
  },
  {
   "cell_type": "code",
   "execution_count": 31,
   "metadata": {},
   "outputs": [],
   "source": [
    "# Expression of the behaviour of the J(t) i the linearized regime\n",
    "def Jt_app(t, c, ell, tau, eta):\n",
    "    return c*tau*(ell-1)*(1-np.exp(-eta*t/tau))"
   ]
  },
  {
   "cell_type": "code",
   "execution_count": 62,
   "metadata": {},
   "outputs": [
    {
     "data": {
      "image/png": "[encoded data removed]",
      "text/plain": [
       "<Figure size 360x216 with 2 Axes>"
      ]
     },
     "metadata": {
      "needs_background": "light"
     },
     "output_type": "display_data"
    }
   ],
   "source": [
    "# Aesthetics\n",
    "fontsize = 14\n",
    "plt.figure(figsize=(5, 3))\n",
    "\n",
    "# Example function\n",
    "c = 0.0768534\n",
    "#c = 0.210102\n",
    "\n",
    "def tau_l(c, ell):\n",
    "    return 1 / (1 + c * (ell - 2))/(ell-1)\n",
    "\n",
    "# Logarithmically spaced ell values\n",
    "ell_values = np.unique(np.round(np.geomspace(2, 200, num=10)).astype(int))\n",
    "\n",
    "# Plotting loop using indexed colors\n",
    "for idx, ell in enumerate(ell_values):\n",
    "    color = sunset[idx]\n",
    "    \n",
    "    plt.plot(\n",
    "        save_epochs,\n",
    "        weights[:, ell - 1],\n",
    "        lw=2,\n",
    "        ls='-',\n",
    "        color=color\n",
    "    )\n",
    "    plt.plot(\n",
    "        save_epochs,\n",
    "        Jt_app(save_epochs, c, ell, tau_l(c, ell), 1/N/(ell-1)),\n",
    "        lw=2,\n",
    "        ls='--',\n",
    "        color=color\n",
    "    )\n",
    "\n",
    "# Labels and formatting\n",
    "plt.ylabel(r\"$J_\\ell(t)$\", fontsize=fontsize)\n",
    "plt.xlabel(r\"$t$\", fontsize=fontsize)\n",
    "plt.xticks(fontsize=fontsize)\n",
    "plt.yticks(fontsize=fontsize)\n",
    "plt.xlim(save_epochs[0], save_epochs[-1])\n",
    "plt.ylim(0, 0.08)\n",
    "plt.grid(True)\n",
    "plt.tight_layout()\n",
    "\n",
    "# Discrete colorbar setup\n",
    "cmap = mpl.colors.ListedColormap(sunset)\n",
    "bounds = np.arange(len(ell_values) + 1) - 0.5\n",
    "norm = mpl.colors.BoundaryNorm(bounds, cmap.N)\n",
    "\n",
    "sm = mpl.cm.ScalarMappable(cmap=cmap, norm=norm)\n",
    "sm.set_array([])\n",
    "\n",
    "cbar = plt.colorbar(sm, ticks=np.arange(len(ell_values)))\n",
    "cbar.ax.set_yticklabels(ell_values)  # Map ticks to ell values\n",
    "cbar.ax.tick_params(labelsize=fontsize)\n",
    "cbar.set_label(r'$\\ell$', fontsize=fontsize)\n",
    "plt.tight_layout()\n",
    "plt.savefig(\"../Plots/weights_vs_epochs.pdf\")\n",
    "plt.show()\n"
   ]
  },
  {
   "cell_type": "code",
   "execution_count": null,
   "metadata": {},
   "outputs": [],
   "source": []
  }
 ],
 "metadata": {
  "kernelspec": {
   "display_name": "old",
   "language": "python",
   "name": "python3"
  },
  "language_info": {
   "codemirror_mode": {
    "name": "ipython",
    "version": 3
   },
   "file_extension": ".py",
   "mimetype": "text/x-python",
   "name": "python",
   "nbconvert_exporter": "python",
   "pygments_lexer": "ipython3",
   "version": "3.6.9"
  }
 },
 "nbformat": 4,
 "nbformat_minor": 2
}
