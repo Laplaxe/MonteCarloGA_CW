{
 "cells": [
  {
   "cell_type": "markdown",
   "metadata": {},
   "source": [
    "# Definitions"
   ]
  },
  {
   "cell_type": "code",
   "execution_count": 25,
   "metadata": {},
   "outputs": [],
   "source": [
    "import torch\n",
    "\n",
    "torch.cuda.set_device(1)\n",
    "device = torch.device(\"cuda:1\")"
   ]
  },
  {
   "cell_type": "code",
   "execution_count": 26,
   "metadata": {},
   "outputs": [],
   "source": [
    "import numpy as np\n",
    "import matplotlib.pyplot as plt\n",
    "import sys\n",
    "from tqdm import tqdm\n",
    "import math\n",
    "sys.path.append(\"../../packages/\")\n",
    "\n",
    "from utilities import *\n",
    "from made import *\n",
    "from global_steps import *"
   ]
  },
  {
   "cell_type": "code",
   "execution_count": 27,
   "metadata": {},
   "outputs": [],
   "source": [
    "def compute_Pm(J):\n",
    "    N = J.shape[0]\n",
    "    dp = torch.zeros(2 * N + 1, dtype=J.dtype, device=J.device)\n",
    "    dp[N] = 1.0\n",
    "    m_vector = torch.arange(-N, N + 1, dtype=J.dtype, device=J.device)\n",
    "    for l in range(N):\n",
    "        new_dp = torch.zeros_like(dp)\n",
    "        up = torch.sigmoid(2 * J[l] * m_vector[:-1])\n",
    "        new_dp[1:] += dp[:-1] * up\n",
    "        down = 1 - torch.sigmoid(2 * J[l] * m_vector[1:])\n",
    "        new_dp[:-1] += dp[1:] * down\n",
    "        dp = new_dp\n",
    "    return dp"
   ]
  },
  {
   "cell_type": "code",
   "execution_count": 28,
   "metadata": {},
   "outputs": [],
   "source": [
    "def transition_matrix_global(probMADE, beta, N):\n",
    "    M = len(probMADE)  # M should be N/2 + 1\n",
    "    T = np.zeros((M, M), dtype=float)\n",
    "    m_vals = np.arange(M) * (2.0 / N)  # m_i = 2*i/N, with m_max=1\n",
    "    \n",
    "    # Precompute the configuration counts (degeneracies)\n",
    "    config = np.zeros(M, dtype=float)\n",
    "    config[0] = comb(N, N//2)\n",
    "    for i in range(1, M):\n",
    "        config[i] = 2 * comb(N, (N//2) + i)\n",
    "    \n",
    "    for i in range(M):\n",
    "        m_i = m_vals[i]\n",
    "        for j in range(M):\n",
    "            if j != i:\n",
    "                exponent = 0.5 * beta * N * (m_vals[j]**2 - m_i**2)\n",
    "                ratio = np.exp(exponent) * (probMADE[i] * config[j]) / (probMADE[j] * config[i])\n",
    "                alpha = min(1.0, ratio)\n",
    "                T[i, j] = probMADE[j] * alpha\n",
    "        T[i, i] = 1.0 - T[i, :].sum()\n",
    "    return T\n",
    "\n",
    "# transition matrix for the Markov chain\n",
    "def transition_matrix_local(N, beta):\n",
    "    \"\"\"\n",
    "    Get the transition matrix for the system in magnetization space.\n",
    "\n",
    "    Parameters:\n",
    "    - N (int): The number of spins in the system.\n",
    "    - beta (float): The inverse temperature (1/kT) of the system.\n",
    "\n",
    "    Returns:\n",
    "    - torch.Tensor: A transition matrix of shape ((N/2)+1, (N/2)+1) representing \n",
    "                  the probabilities of transitioning between different magnetization states.\n",
    "    \"\"\"\n",
    "    P = torch.zeros((int(N/2)+1, int(N/2)+1))\n",
    "\n",
    "    for i in range(0, int(N/2)+1):\n",
    "        m = i*2/N\n",
    "        if i == 0:\n",
    "            P[i, 1] = 1\n",
    "        else: \n",
    "            P[i, i-1] = (1+np.abs(m))/2*np.exp(-2*beta*(np.abs(m)-1/N))\n",
    "            P[i, i] = 1 - (1+np.abs(m))/2*np.exp(-2*beta*(np.abs(m)-1/N)) - (1-np.abs(m))/2\n",
    "            if i != N/2:\n",
    "                P[i, i+1] = (1-np.abs(m))/2\n",
    "    return P"
   ]
  },
  {
   "cell_type": "code",
   "execution_count": 29,
   "metadata": {},
   "outputs": [],
   "source": [
    "def compute_Pm_abs(N, W):\n",
    "    Neff = int(N/2)\n",
    "    probMADE = compute_Pm(torch.tensor(W).cuda())[::2]\n",
    "    x = probMADE[Neff:]\n",
    "    x[1:] += torch.flip(probMADE[:Neff], dims=[0])\n",
    "    probMADE = x\n",
    "    return probMADE\n",
    "\n",
    "def get_time_chain(T):\n",
    "    eigvals = np.abs(np.linalg.eigvals(T))\n",
    "    second_max_index = np.argsort(eigvals.real)[-2]\n",
    "    second_eigenvalue = eigvals[second_max_index]\n",
    "    time = -1/np.log(second_eigenvalue)\n",
    "    #time = 1/(1-second_eigenvalue)\n",
    "    return time\n",
    "\n",
    "def compute_time_MADE(N, beta_target, W, consider_complexity = True):\n",
    "    probMADE = compute_Pm_abs(N, W)\n",
    "    T = transition_matrix_global(probMADE, beta_target, N)\n",
    "    time = get_time_chain(T)\n",
    "    if consider_complexity:\n",
    "        return time*N\n",
    "    else:\n",
    "        return time\n",
    "\n",
    "def compute_time_local(N, beta_target):\n",
    "    T = transition_matrix_local(N, beta_target)\n",
    "    time = get_time_chain(T)\n",
    "    return time\n",
    "\n",
    "def get_matrix_mixed(N, beta_target, W, k):\n",
    "    probMADE = compute_Pm_abs(N, W)\n",
    "    Tmade = transition_matrix_global(probMADE, beta_target, N)\n",
    "    Tlocal = transition_matrix_local(N, beta_target)\n",
    "    T = Tmade.dot(np.linalg.matrix_power(Tlocal, N*k))\n",
    "    return T\n",
    "\n",
    "def compute_time_mixed(N, beta_target, W, k = 1, consider_complexity = True):\n",
    "    T = get_matrix_mixed(N, beta_target, W, k)\n",
    "    time = get_time_chain(T)\n",
    "    if consider_complexity:\n",
    "        return time*N*(k+1)\n",
    "    else:\n",
    "        return time\n",
    "\n",
    "def get_exact_distribution(N, beta_target):\n",
    "    T = transition_matrix_local(N, beta_target).T\n",
    "    eigvals, eigvecs = np.linalg.eig(T)\n",
    "    max_eigenvalue_index = np.argmax(eigvals.real)\n",
    "    steady_state_distribution = eigvecs[:, max_eigenvalue_index].real\n",
    "    steady_state_distribution /= steady_state_distribution.sum()  # Normalize the distribution\n",
    "    return steady_state_distribution\n",
    "\n",
    "def compare_times(N, beta_target, W, consider_complexity = True):\n",
    "    return compute_time_MADE(N, beta_target, W, consider_complexity = consider_complexity), compute_time_local(N, beta_target)"
   ]
  },
  {
   "cell_type": "code",
   "execution_count": 30,
   "metadata": {},
   "outputs": [],
   "source": [
    "def get_beta(m):\n",
    "    return np.arctanh(m)/m"
   ]
  },
  {
   "cell_type": "code",
   "execution_count": 31,
   "metadata": {},
   "outputs": [],
   "source": [
    "def setup_model(W, N = 100):\n",
    "    model = made(N)\n",
    "    weights = model.layer.weight.detach()\n",
    "\n",
    "    # Update each row i of the weight matrix with W[i]\n",
    "    for i in range(weights.shape[0]):\n",
    "        weights[i, :] = W[i]\n",
    "\n",
    "    # Set the upper triangular part of the matrix to 0\n",
    "    weights = np.tril(weights, -1)  # Keep only the lower triangular part\n",
    "\n",
    "    # Set the updated weights back to the model\n",
    "    model.layer.weight.data = torch.tensor(weights)\n",
    "    model = model.cuda()\n",
    "    return model"
   ]
  },
  {
   "cell_type": "code",
   "execution_count": 32,
   "metadata": {},
   "outputs": [],
   "source": [
    "def MLMC_fast(model, data, beta, N,  num_steps = 10, return_correlations = False):\n",
    "    # NOTA: le correlazioni sono calcolate usando come riferimento il primo campione\n",
    "    # Non sono mediate sui tempi!\n",
    "    #Se il primo campione è all'equilibrio, non ci sono problemi\n",
    "    acc_rates = []\n",
    "    if return_correlations:\n",
    "        correlations = [1]\n",
    "    with torch.no_grad():\n",
    "        bce = nn.BCELoss(reduction = \"none\")\n",
    "        current_config = data.clone()\n",
    "        for t in range(num_steps):\n",
    "            new_config = generate_config_fast(model, N, len(data), None)\n",
    "            \n",
    "            current_energy = -N*current_config.mean(1)**2/2\n",
    "            current_probability = torch.sum(bce(model(current_config), (current_config+1)/2), axis = 1)\n",
    "\n",
    "            new_energy = -N*new_config.mean(1)**2/2\n",
    "            new_probability = torch.sum(bce(model(new_config), (new_config+1)/2), axis = 1)\n",
    "\n",
    "            arg_new = -beta*new_energy + new_probability\n",
    "            arg_current = -beta*current_energy + current_probability\n",
    "\n",
    "            acceptances = (torch.log(torch.rand(size=(len(data),), device = \"cuda\")) < (arg_new-arg_current)).int()\n",
    "            current_config = torch.einsum(\"i, ij->ij\",(1-acceptances),current_config) + torch.einsum(\"i, ij->ij\",acceptances, new_config)\n",
    "            torch.cuda.empty_cache()\n",
    "            acc_rates.append(torch.sum(acceptances)/len(data))\n",
    "            if return_correlations:\n",
    "                correlations.append(float(torch.mean(data*current_config) - torch.mean(data)*torch.mean(current_config)))\n",
    "    if return_correlations:\n",
    "        return current_config, acc_rates, correlations\n",
    "    else:\n",
    "        return current_config, acc_rates\n",
    "\n",
    "def monte_carlo_update_CW(pop, N, beta):\n",
    "    \"\"\"Monte Carlo update model using a checkerboard pattern.\"\"\"\n",
    "    population = pop.clone()\n",
    "    pop_size, N = population.shape\n",
    "    # Define \"even\" and \"odd\" indices for a checkerboard update\n",
    "\n",
    "    # Update spins in two passes (checkerboard pattern)\n",
    "    random_indices = torch.randint(0, N, (pop_size,))\n",
    "    magnetizations = population.mean(1)\n",
    "    sigmas = population[torch.arange(pop_size), random_indices]\n",
    "    \n",
    "    # Compute energy difference for each single-spin flip\n",
    "    delta_E = -2*(1/N - sigmas*magnetizations)\n",
    "    # Metropolis acceptance criterion for each spin\n",
    "    acceptance_prob = torch.exp(-beta * delta_E)\n",
    "    random_vals = torch.rand(pop_size, device=population.device)\n",
    "    accept = (delta_E < 0) | (random_vals < acceptance_prob)\n",
    "    \n",
    "    # Apply accepted flips only for accepted positions\n",
    "    population[torch.arange(pop_size), random_indices] = torch.where(accept, -sigmas, sigmas)\n",
    "    return population"
   ]
  },
  {
   "cell_type": "markdown",
   "metadata": {},
   "source": [
    "# Check"
   ]
  },
  {
   "cell_type": "code",
   "execution_count": 33,
   "metadata": {},
   "outputs": [],
   "source": [
    "from scipy.special import comb"
   ]
  },
  {
   "cell_type": "code",
   "execution_count": 34,
   "metadata": {},
   "outputs": [],
   "source": [
    "beta = 1\n",
    "N = 20\n",
    "\n",
    "W = np.concatenate([np.array([0]),np.loadtxt(f\"couplings_N{N}_beta{beta}.txt\")]) #Need to add the starting 0\n",
    "W *= beta\n",
    "\n",
    "probMADE = compute_Pm_abs(N, W)"
   ]
  },
  {
   "cell_type": "code",
   "execution_count": 35,
   "metadata": {},
   "outputs": [
    {
     "name": "stdout",
     "output_type": "stream",
     "text": [
      "tensor(3.8987, dtype=torch.float64)\n"
     ]
    }
   ],
   "source": [
    "mtarget = 0.4\n",
    "beta_target = get_beta(mtarget)\n",
    "nmax = int((1+mtarget)*N/4)\n",
    "\n",
    "P = get_matrix_mixed(N, beta_target, W, k=1)[:nmax, :nmax]\n",
    "P = torch.eye(P.shape[0])-P\n",
    "P_inv = torch.linalg.inv(P)\n",
    "result = torch.matmul(P_inv, torch.ones(P_inv.shape[0], device=P_inv.device, dtype=P_inv.dtype))\n",
    "\n",
    "print(result[0])"
   ]
  },
  {
   "cell_type": "code",
   "execution_count": 36,
   "metadata": {},
   "outputs": [],
   "source": [
    "model = setup_model(W, N=N)"
   ]
  },
  {
   "cell_type": "code",
   "execution_count": 47,
   "metadata": {},
   "outputs": [],
   "source": [
    "def montecarlo_alternated_abs(N, beta, target_M, model, pop_size = 10000, k = 1):\n",
    "    # Population of spins, randomly initialized to -1 or 1\n",
    "    pop = torch.cat([torch.ones((pop_size, N//2)), -torch.ones((pop_size, N//2))], dim=1).cuda()\n",
    "    # Apply random permutation to each row\n",
    "    pop = torch.stack([row[torch.randperm(row.size(0))] for row in pop])\n",
    "    over = False\n",
    "\n",
    "    # Array to track the time (iteration count) at which each population member reaches the target magnetization\n",
    "    time_to_target = torch.full((pop_size,), float('inf'), device=\"cuda\")  # Initialized to infinity (not reached yet)\n",
    "\n",
    "    # Flag to indicate whether each population member has reached the target\n",
    "    reached_target = torch.zeros(pop_size, dtype=torch.bool, device=\"cuda\")\n",
    "\n",
    "    magnetizations = pop.sum(1)  \n",
    "        \n",
    "    # Check which members have reached the target magnetization (absolute value comparison)\n",
    "    newly_reached = (torch.abs(magnetizations) >= target_M) & ~reached_target\n",
    "    \n",
    "    # Update the time for newly reached members (only for the first time they reach the target)\n",
    "    time_to_target[newly_reached] = 0\n",
    "    # Mark members as having reached the target\n",
    "    reached_target |= newly_reached\n",
    "\n",
    "    # Loop to update the population using the Monte Carlo method\n",
    "    for global_step in range(1, 1000):  # Maximum number of iterations\n",
    "        #pop, _ = MLMC_fast(model, pop, beta, N,  num_steps = 1)\n",
    "        # Calculate magnetization for each population member\n",
    "        #magnetizations = pop.sum(1)  \n",
    "        \n",
    "        # Check which members have reached the target magnetization (absolute value comparison)\n",
    "        #newly_reached = (torch.abs(magnetizations) >= target_M) & ~reached_target\n",
    "        \n",
    "        # Update the time for newly reached members (only for the first time they reach the target)\n",
    "        #time_to_target[newly_reached] = N+N+global_step*(N+N*k)\n",
    "        \n",
    "        # Mark members as having reached the target\n",
    "        #reached_target |= newly_reached\n",
    "        \n",
    "        # Break if all members of the population have reached the target\n",
    "        #if reached_target.all():\n",
    "        #    print(\"All population members have reached the target magnetization.\")\n",
    "        #    over = True\n",
    "        #    break\n",
    "        #\n",
    "        # Perform a Monte Carlo update for the entire population\n",
    "        for i in range(k):\n",
    "            pop = monte_carlo_update_CW(pop, N, beta)  \n",
    "        pop, _ = MLMC_fast(model, pop, beta, N,  num_steps = 1)\n",
    "        # Calculate magnetization for each population member\n",
    "        magnetizations = pop.sum(1)  \n",
    "        \n",
    "        # Check which members have reached the target magnetization (absolute value comparison)\n",
    "        newly_reached = (torch.abs(magnetizations) >= target_M) & ~reached_target\n",
    "        \n",
    "        # Update the time for newly reached members (only for the first time they reach the target)\n",
    "        time_to_target[newly_reached] = global_step\n",
    "        \n",
    "        # Mark members as having reached the target\n",
    "        reached_target |= newly_reached\n",
    "        \n",
    "        # Break if all members of the population have reached the target\n",
    "        if reached_target.all():\n",
    "            print(\"All population members have reached the target magnetization.\")\n",
    "            over = True\n",
    "            break\n",
    "        if over:\n",
    "            break\n",
    "\n",
    "    # Print or save the times to target\n",
    "    #print(\"Time to target for each population member:\", time_to_target)\n",
    "    return time_to_target"
   ]
  },
  {
   "cell_type": "code",
   "execution_count": null,
   "metadata": {},
   "outputs": [
    {
     "name": "stdout",
     "output_type": "stream",
     "text": [
      "All population members have reached the target magnetization.\n",
      "All population members have reached the target magnetization.\n",
      "1.0188982236504613 tensor(6.3942, device='cuda:1') tensor(3.4850, device='cuda:1') tensor(1.8348, device='cuda:1')\n"
     ]
    }
   ],
   "source": [
    "beta = 1\n",
    "N = 700\n",
    "\n",
    "W = np.concatenate([np.array([0]),np.loadtxt(f\"couplings_N{N}_beta{beta}.txt\")]) #Need to add the starting 0\n",
    "W *= beta\n",
    "\n",
    "model = setup_model(W, N=N)\n",
    "\n",
    "numeric_results = []\n",
    "mtarget = 0.2341322682996002\n",
    "beta_target = 1.0188982236504613\n",
    "\n",
    "result1 = 2*montecarlo_alternated_abs(N, beta_target, int(mtarget*N), model, pop_size = 10000, k = N*1).mean()\n",
    "result2 = montecarlo_alternated_abs(N, beta_target, int(mtarget*N), model, pop_size = 10000, k = 0).mean()\n",
    "print(beta_target, result1, result2, result1/result2)\n"
   ]
  },
  {
   "cell_type": "code",
   "execution_count": 41,
   "metadata": {},
   "outputs": [],
   "source": [
    "R = np.loadtxt(\"R_N350.txt\")"
   ]
  },
  {
   "cell_type": "code",
   "execution_count": 54,
   "metadata": {},
   "outputs": [
    {
     "name": "stderr",
     "output_type": "stream",
     "text": [
      "/home/delbono/.local/lib/python3.6/site-packages/ipykernel_launcher.py:3: UserWarning: To copy construct from a tensor, it is recommended to use sourceTensor.clone().detach() or sourceTensor.clone().detach().requires_grad_(True), rather than torch.tensor(sourceTensor).\n",
      "  This is separate from the ipykernel package so we can avoid doing imports until\n"
     ]
    },
    {
     "data": {
      "image/png": "[encoded data removed]",
      "text/plain": [
       "<Figure size 432x288 with 1 Axes>"
      ]
     },
     "metadata": {
      "needs_background": "light"
     },
     "output_type": "display_data"
    }
   ],
   "source": [
    "from scipy.interpolate import interp1d\n",
    "\n",
    "numeric_results = torch.tensor(numeric_results)\n",
    "plt.scatter((numeric_results[:,0]-1)*np.sqrt(350), numeric_results[:,-1], label = \"Simulations\")\n",
    "plt.scatter((R[:,0]-1)*np.sqrt(350), R[:,-1], marker = \"x\", label = \"Analytical\")\n",
    "#plt.xlim(0, 0.1)\n",
    "# Interpolate the numeric results to find the value at which the curve is 1\n",
    "interp_func = interp1d((numeric_results[:,0]-1)*np.sqrt(350), numeric_results[:,-1], kind='linear', fill_value=\"extrapolate\")\n",
    "x_val = interp_func(1)\n",
    "\n",
    "plt.axhline(y=1, color='r', linestyle='--', label=f'Interpolated value at y=1: {x_val:.2f}')\n",
    "plt.ylim(0.5)\n",
    "plt.xlabel(r'$\\Delta \\beta$')\n",
    "plt.ylabel('R')\n",
    "plt.title('N = 350')\n",
    "plt.legend()\n",
    "plt.grid(True)\n",
    "plt.show()"
   ]
  },
  {
   "cell_type": "code",
   "execution_count": 39,
   "metadata": {},
   "outputs": [],
   "source": [
    "def get_transition_matrix_absm(N, beta):\n",
    "    \"\"\"\n",
    "    Get the transition matrix for the system in magnetization space.\n",
    "\n",
    "    Parameters:\n",
    "    - N (int): The number of spins in the system.\n",
    "    - beta (float): The inverse temperature (1/kT) of the system.\n",
    "\n",
    "    Returns:\n",
    "    - torch.Tensor: A transition matrix of shape ((N/2)+1, (N/2)+1) representing \n",
    "                  the probabilities of transitioning between different magnetization states.\n",
    "    \"\"\"\n",
    "    P = torch.zeros((int(N/2)+1, int(N/2)+1))\n",
    "\n",
    "    for i in range(0, int(N/2)+1):\n",
    "        m = i*2/N\n",
    "        if i == 0:\n",
    "            P[i, 1] = 1\n",
    "        else: \n",
    "            P[i, i-1] = (1+np.abs(m))/2*np.exp(-2*beta*(np.abs(m)-1/N))\n",
    "            P[i, i] = 1 - (1+np.abs(m))/2*np.exp(-2*beta*(np.abs(m)-1/N)) - (1-np.abs(m))/2\n",
    "            if i != N/2:\n",
    "                P[i, i+1] = (1-np.abs(m))/2\n",
    "    return P"
   ]
  },
  {
   "cell_type": "code",
   "execution_count": 40,
   "metadata": {},
   "outputs": [
    {
     "name": "stdout",
     "output_type": "stream",
     "text": [
      "tensor(7.3528)\n"
     ]
    }
   ],
   "source": [
    "beta_target = get_beta(mtarget)\n",
    "nmax = int((mtarget)*N/2)\n",
    "k = N*1\n",
    "P = get_transition_matrix_absm(N, beta_target)\n",
    "P = torch.matrix_power(P, k)\n",
    "P = P[:nmax, :nmax]\n",
    "#P = torch.cat((P[:nmax], P[nmax+1:]))\n",
    "#P = torch.cat((P[:, :nmax], P[:, nmax+1:]), dim=1)\n",
    "P = torch.eye(P.shape[0])-P\n",
    "P_inv = torch.linalg.inv(P)\n",
    "result = torch.matmul(P_inv, torch.ones(P_inv.shape[0], device=P_inv.device, dtype=P_inv.dtype))\n",
    "\n",
    "print(result[0])"
   ]
  },
  {
   "cell_type": "code",
   "execution_count": null,
   "metadata": {},
   "outputs": [],
   "source": []
  },
  {
   "cell_type": "code",
   "execution_count": 32,
   "metadata": {},
   "outputs": [
    {
     "name": "stdout",
     "output_type": "stream",
     "text": [
      "tensor(18.5599, dtype=torch.float64)\n"
     ]
    }
   ],
   "source": [
    "mtarget = 0.74\n",
    "beta_target = get_beta(mtarget)\n",
    "nmax = int((mtarget)*N/2)\n",
    "\n",
    "P = get_matrix_mixed(N, beta_target, W, k=1)[:nmax, :nmax]\n",
    "P = torch.eye(P.shape[0])-P\n",
    "P_inv = torch.linalg.inv(P)\n",
    "result = torch.matmul(P_inv, torch.ones(P_inv.shape[0], device=P_inv.device, dtype=P_inv.dtype))\n",
    "\n",
    "print(2*result[0])"
   ]
  },
  {
   "cell_type": "code",
   "execution_count": 79,
   "metadata": {},
   "outputs": [
    {
     "name": "stdout",
     "output_type": "stream",
     "text": [
      "4\n"
     ]
    }
   ],
   "source": [
    "mtarget = 0.4\n",
    "nmax = int((mtarget)*N/2)\n",
    "print(nmax)"
   ]
  },
  {
   "cell_type": "code",
   "execution_count": 80,
   "metadata": {},
   "outputs": [
    {
     "data": {
      "text/plain": [
       "8"
      ]
     },
     "execution_count": 80,
     "metadata": {},
     "output_type": "execute_result"
    }
   ],
   "source": [
    "int(mtarget*N)"
   ]
  },
  {
   "cell_type": "code",
   "execution_count": null,
   "metadata": {},
   "outputs": [],
   "source": []
  }
 ],
 "metadata": {
  "kernelspec": {
   "display_name": "old",
   "language": "python",
   "name": "python3"
  },
  "language_info": {
   "codemirror_mode": {
    "name": "ipython",
    "version": 3
   },
   "file_extension": ".py",
   "mimetype": "text/x-python",
   "name": "python",
   "nbconvert_exporter": "python",
   "pygments_lexer": "ipython3",
   "version": "3.6.9"
  }
 },
 "nbformat": 4,
 "nbformat_minor": 2
}
